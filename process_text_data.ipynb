{
 "cells": [
  {
   "cell_type": "code",
   "execution_count": 1,
   "id": "b82821d4",
   "metadata": {},
   "outputs": [],
   "source": [
    "import os\n",
    "\n",
    "os.environ['KMP_DUPLICATE_LIB_OK']='True'"
   ]
  },
  {
   "cell_type": "code",
   "execution_count": 2,
   "id": "2c203229",
   "metadata": {},
   "outputs": [],
   "source": [
    "import pandas as pd\n",
    "import numpy as np"
   ]
  },
  {
   "cell_type": "code",
   "execution_count": 3,
   "id": "21b86a81",
   "metadata": {},
   "outputs": [
    {
     "data": {
      "application/vnd.jupyter.widget-view+json": {
       "model_id": "c05f345b877943d084cf8316f3d1bcc6",
       "version_major": 2,
       "version_minor": 0
      },
      "text/plain": [
       "Downloading https://raw.githubusercontent.com/stanfordnlp/stanza-resources/main/resources_1.3.0.json:   0%|   …"
      ]
     },
     "metadata": {},
     "output_type": "display_data"
    },
    {
     "name": "stderr",
     "output_type": "stream",
     "text": [
      "2022-01-09 22:46:28 INFO: Downloading default packages for language: en (English)...\n",
      "2022-01-09 22:46:30 INFO: File exists: /Users/guilhermealbm/stanza_resources/en/default.zip.\n",
      "2022-01-09 22:46:33 INFO: Finished downloading models and saved to /Users/guilhermealbm/stanza_resources.\n",
      "2022-01-09 22:46:33 WARNING: Can not find mwt: default from official model list. Ignoring it.\n",
      "2022-01-09 22:46:33 INFO: Loading these models for language: en (English):\n",
      "========================\n",
      "| Processor | Package  |\n",
      "------------------------\n",
      "| tokenize  | combined |\n",
      "| pos       | combined |\n",
      "| lemma     | combined |\n",
      "| depparse  | combined |\n",
      "========================\n",
      "\n",
      "2022-01-09 22:46:33 INFO: Use device: cpu\n",
      "2022-01-09 22:46:33 INFO: Loading: tokenize\n",
      "2022-01-09 22:46:33 INFO: Loading: pos\n",
      "2022-01-09 22:46:33 INFO: Loading: lemma\n",
      "2022-01-09 22:46:33 INFO: Loading: depparse\n",
      "2022-01-09 22:46:33 INFO: Done loading processors!\n"
     ]
    }
   ],
   "source": [
    "import re\n",
    "import stanza\n",
    "stanza.download('en')\n",
    "nlp = stanza.Pipeline('en', processors = \"tokenize,mwt,pos,lemma,depparse\") "
   ]
  },
  {
   "cell_type": "code",
   "execution_count": 4,
   "id": "d91a402c",
   "metadata": {},
   "outputs": [],
   "source": [
    "df = pd.read_csv(\"preprocessing/final_file.csv\")"
   ]
  },
  {
   "cell_type": "code",
   "execution_count": 5,
   "id": "238ec85e",
   "metadata": {},
   "outputs": [
    {
     "data": {
      "text/plain": [
       "1048575"
      ]
     },
     "execution_count": 5,
     "metadata": {},
     "output_type": "execute_result"
    }
   ],
   "source": [
    "df.shape[0]"
   ]
  },
  {
   "cell_type": "code",
   "execution_count": 6,
   "id": "92875518",
   "metadata": {},
   "outputs": [],
   "source": [
    "df_with_wiki = pd.read_csv(\"preprocessing/tags_with_wiki.csv\")"
   ]
  },
  {
   "cell_type": "code",
   "execution_count": 7,
   "id": "7496acf2",
   "metadata": {},
   "outputs": [
    {
     "data": {
      "text/plain": [
       "44447"
      ]
     },
     "execution_count": 7,
     "metadata": {},
     "output_type": "execute_result"
    }
   ],
   "source": [
    "start_shape = df_with_wiki.shape[0]\n",
    "start_shape"
   ]
  },
  {
   "cell_type": "code",
   "execution_count": 8,
   "id": "d54d7083",
   "metadata": {},
   "outputs": [
    {
     "data": {
      "text/plain": [
       "41589"
      ]
     },
     "execution_count": 8,
     "metadata": {},
     "output_type": "execute_result"
    }
   ],
   "source": [
    "df_with_wiki = df_with_wiki.dropna()\n",
    "df_with_wiki.shape[0]"
   ]
  },
  {
   "cell_type": "markdown",
   "id": "04b14ba8",
   "metadata": {},
   "source": [
    "### NLP process"
   ]
  },
  {
   "cell_type": "code",
   "execution_count": 9,
   "id": "a98f82c4",
   "metadata": {},
   "outputs": [
    {
     "name": "stdout",
     "output_type": "stream",
     "text": [
      "0 / 44447\n",
      "4000 / 44447\n",
      "8000 / 44447\n",
      "12000 / 44447\n",
      "16000 / 44447\n",
      "20000 / 44447\n",
      "24000 / 44447\n",
      "28000 / 44447\n",
      "32000 / 44447\n",
      "36000 / 44447\n"
     ]
    }
   ],
   "source": [
    "df_with_wiki[\"root\"] = \"\"\n",
    "\n",
    "for index, row in df_with_wiki.iterrows():\n",
    "    text = row[\"Body\"].lower().replace(\",\", \"\").replace(\"\\n\", \" \")\n",
    "    \n",
    "    doc = nlp(text)\n",
    "    \n",
    "    definition_set = False\n",
    "    for sentence in doc.sentences:        \n",
    "        nsubj, cop, root = False, False, False\n",
    "        sent_dict = sentence.to_dict()\n",
    "        for word in sent_dict:\n",
    "            if word['deprel'] == \"nsubj\" and word['xpos'][0] == 'N':\n",
    "                nsubj = True\n",
    "            elif nsubj and word['deprel'] == \"cop\":\n",
    "                cop = True\n",
    "                root = True\n",
    "                df_with_wiki.at[index, 'root'] = sent_dict[word['head'] - 1]['text']\n",
    "\n",
    "        if nsubj and cop and root:\n",
    "            df_with_wiki.at[index, 'Body'] = str(sentence.text)\n",
    "            definition_set = True\n",
    "            break\n",
    "        \n",
    "    if index % 4000 == 0:\n",
    "        print(str(index) + \" / \" + str(start_shape))\n"
   ]
  },
  {
   "cell_type": "code",
   "execution_count": 10,
   "id": "a67f8cec",
   "metadata": {},
   "outputs": [
    {
     "data": {
      "text/plain": [
       "41589"
      ]
     },
     "execution_count": 10,
     "metadata": {},
     "output_type": "execute_result"
    }
   ],
   "source": [
    "df_with_wiki.shape[0]"
   ]
  },
  {
   "cell_type": "code",
   "execution_count": 11,
   "id": "47e14838",
   "metadata": {},
   "outputs": [],
   "source": [
    "df_with_wiki.to_csv(\"tags_with_wiki_and_category.csv\", index=False)"
   ]
  },
  {
   "cell_type": "markdown",
   "id": "24fa3517",
   "metadata": {},
   "source": [
    "### Clean relationship df"
   ]
  },
  {
   "cell_type": "code",
   "execution_count": 12,
   "id": "08ae9c15",
   "metadata": {},
   "outputs": [],
   "source": [
    "df = df[df.source.isin(df_with_wiki.TagName)]\n",
    "df = df[df.target.isin(df_with_wiki.TagName)]"
   ]
  },
  {
   "cell_type": "code",
   "execution_count": 13,
   "id": "04e895c5",
   "metadata": {},
   "outputs": [
    {
     "data": {
      "text/plain": [
       "936606"
      ]
     },
     "execution_count": 13,
     "metadata": {},
     "output_type": "execute_result"
    }
   ],
   "source": [
    "df.shape[0]"
   ]
  },
  {
   "cell_type": "code",
   "execution_count": 14,
   "id": "cd5099f5",
   "metadata": {},
   "outputs": [],
   "source": [
    "df.to_csv(\"tags_with_wiki_relationship.csv\", index=False)"
   ]
  },
  {
   "cell_type": "code",
   "execution_count": null,
   "id": "fdaee78d",
   "metadata": {},
   "outputs": [],
   "source": []
  }
 ],
 "metadata": {
  "kernelspec": {
   "display_name": "Python 3",
   "language": "python",
   "name": "python3"
  },
  "language_info": {
   "codemirror_mode": {
    "name": "ipython",
    "version": 3
   },
   "file_extension": ".py",
   "mimetype": "text/x-python",
   "name": "python",
   "nbconvert_exporter": "python",
   "pygments_lexer": "ipython3",
   "version": "3.8.8"
  }
 },
 "nbformat": 4,
 "nbformat_minor": 5
}
