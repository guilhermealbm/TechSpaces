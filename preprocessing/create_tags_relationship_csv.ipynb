{
 "cells": [
  {
   "cell_type": "code",
   "execution_count": 1,
   "id": "109081c8",
   "metadata": {},
   "outputs": [],
   "source": [
    "import pandas as pd\n",
    "from lxml import etree"
   ]
  },
  {
   "cell_type": "code",
   "execution_count": 2,
   "id": "2d194524",
   "metadata": {},
   "outputs": [],
   "source": [
    "xmlfile = open(\"/Volumes/SSD Guilherme/stackexchange/Posts.xml\", \"rb\")"
   ]
  },
  {
   "cell_type": "code",
   "execution_count": 3,
   "id": "187dd579",
   "metadata": {},
   "outputs": [],
   "source": [
    "context = etree.iterparse(xmlfile) \n",
    "tagsDict = {}\n",
    "questions = 0\n",
    "for event, elem in context:\n",
    "        \n",
    "    if 'Tags' in elem.attrib:\n",
    "        tagsList = sorted((elem.attrib['Tags'][:-1].replace('<', '')).split('>'))\n",
    "        \n",
    "    for i, _ in enumerate(tagsList):\n",
    "        for j in range((i + 1), len(tagsList)):\n",
    "            tagTuple = (tagsList[i], tagsList[j])\n",
    "            if tagTuple in tagsDict:\n",
    "                tagsDict[tagTuple] += 1\n",
    "            else:\n",
    "                tagsDict[tagTuple] = 1\n",
    "\n",
    "    elem.clear()\n",
    "    while elem.getprevious() is not None:\n",
    "        del elem.getparent()[0]\n",
    "    \n",
    "    questions += 1"
   ]
  },
  {
   "cell_type": "code",
   "execution_count": 4,
   "id": "271719bc",
   "metadata": {},
   "outputs": [
    {
     "data": {
      "text/plain": [
       "53949887"
      ]
     },
     "execution_count": 4,
     "metadata": {},
     "output_type": "execute_result"
    }
   ],
   "source": [
    "questions"
   ]
  },
  {
   "cell_type": "code",
   "execution_count": 5,
   "id": "ae31372a",
   "metadata": {},
   "outputs": [],
   "source": [
    "df = pd.DataFrame.from_dict(data=tagsDict, orient='index').reset_index()\n",
    "df[['t1', 't2']] = pd.DataFrame(df['index'].tolist(), index=df.index)\n",
    "df = df.drop('index', 1)\n",
    "df = df[['t1', 't2', 0]]"
   ]
  },
  {
   "cell_type": "code",
   "execution_count": 6,
   "id": "40bb9471",
   "metadata": {},
   "outputs": [
    {
     "data": {
      "text/plain": [
       "0    196290608\n",
       "dtype: int64"
      ]
     },
     "execution_count": 6,
     "metadata": {},
     "output_type": "execute_result"
    }
   ],
   "source": [
    "df[[0]].sum()"
   ]
  },
  {
   "cell_type": "code",
   "execution_count": 7,
   "id": "897e891e",
   "metadata": {},
   "outputs": [],
   "source": [
    "df.to_csv('final_file.csv', header=False)"
   ]
  }
 ],
 "metadata": {
  "kernelspec": {
   "display_name": "Python 3",
   "language": "python",
   "name": "python3"
  },
  "language_info": {
   "codemirror_mode": {
    "name": "ipython",
    "version": 3
   },
   "file_extension": ".py",
   "mimetype": "text/x-python",
   "name": "python",
   "nbconvert_exporter": "python",
   "pygments_lexer": "ipython3",
   "version": "3.8.8"
  }
 },
 "nbformat": 4,
 "nbformat_minor": 5
}
